{
 "cells": [
  {
   "cell_type": "code",
   "execution_count": 2,
   "metadata": {},
   "outputs": [],
   "source": [
    "from os import system, path"
   ]
  },
  {
   "cell_type": "code",
   "execution_count": 4,
   "metadata": {},
   "outputs": [
    {
     "data": {
      "text/plain": [
       "256"
      ]
     },
     "execution_count": 4,
     "metadata": {},
     "output_type": "execute_result"
    }
   ],
   "source": [
    "system(\"python minipipe.py ../CA1_imaging/m38-1/2017-12-06-13-47-01_m38-1_train.mkv -c 2000 --motion_corr -t 1.1 -f avi --cores 8\"\n",
    ")"
   ]
  },
  {
   "cell_type": "code",
   "execution_count": 6,
   "metadata": {},
   "outputs": [
    {
     "data": {
      "text/plain": [
       "0"
      ]
     },
     "execution_count": 6,
     "metadata": {},
     "output_type": "execute_result"
    }
   ],
   "source": [
    "filename = \"../CA1_imaging/m38-1/2017-12-06-13-47-01_m38-1_train.mkv\"\n",
    "directory = path.dirname(filename)\n",
    "save_name = filename.replace('.mkv', '_proc')\n",
    "\n",
    "system(\"tiffcp {}/*_temp_*.tiff {}.tiff\".format(directory, save_name))"
   ]
  },
  {
   "cell_type": "code",
   "execution_count": null,
   "metadata": {},
   "outputs": [],
   "source": [
    "fps = 5\n",
    "tot"
   ]
  },
  {
   "cell_type": "code",
   "execution_count": 7,
   "metadata": {},
   "outputs": [
    {
     "name": "stderr",
     "output_type": "stream",
     "text": [
      "Using AVStream.codec to pass codec parameters to muxers is deprecated, use AVStream.codecpar instead.\n"
     ]
    }
   ],
   "source": [
    "from __future__ import division\n",
    "\n",
    "import av\n",
    "import numpy as np\n",
    "\n",
    "duration = 4\n",
    "fps = 24\n",
    "total_frames = duration * fps\n",
    "\n",
    "container = av.open('test.mp4', mode='w')\n",
    "\n",
    "stream = container.add_stream('mpeg4', rate=fps)\n",
    "stream.width = 480\n",
    "stream.height = 320\n",
    "stream.pix_fmt = 'yuv420p'\n",
    "\n",
    "for frame_i in range(total_frames):\n",
    "\n",
    "    img = np.empty((480, 320, 3))\n",
    "    img[:, :, 0] = 0.5 + 0.5 * np.sin(2 * np.pi * (0 / 3 + frame_i / total_frames))\n",
    "    img[:, :, 1] = 0.5 + 0.5 * np.sin(2 * np.pi * (1 / 3 + frame_i / total_frames))\n",
    "    img[:, :, 2] = 0.5 + 0.5 * np.sin(2 * np.pi * (2 / 3 + frame_i / total_frames))\n",
    "\n",
    "    img = np.round(255 * img).astype(np.uint8)\n",
    "    img = np.clip(img, 0, 255)\n",
    "\n",
    "    frame = av.VideoFrame.from_ndarray(img, format='rgb24')\n",
    "    for packet in stream.encode(frame):\n",
    "        container.mux(packet)\n",
    "\n",
    "# Flush stream\n",
    "for packet in stream.encode():\n",
    "    container.mux(packet)\n",
    "\n",
    "# Close the file\n",
    "container.close()"
   ]
  },
  {
   "cell_type": "code",
   "execution_count": null,
   "metadata": {},
   "outputs": [],
   "source": []
  }
 ],
 "metadata": {
  "kernelspec": {
   "display_name": "Python 3",
   "language": "python",
   "name": "python3"
  },
  "language_info": {
   "codemirror_mode": {
    "name": "ipython",
    "version": 3
   },
   "file_extension": ".py",
   "mimetype": "text/x-python",
   "name": "python",
   "nbconvert_exporter": "python",
   "pygments_lexer": "ipython3",
   "version": "3.5.5"
  }
 },
 "nbformat": 4,
 "nbformat_minor": 2
}
